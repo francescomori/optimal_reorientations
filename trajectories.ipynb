{
 "cells": [
  {
   "cell_type": "code",
   "execution_count": 75,
   "id": "eadf7d9f",
   "metadata": {},
   "outputs": [],
   "source": [
    "import numpy as np\n",
    "import matplotlib.pyplot as plt\n",
    "from scipy.optimize import fsolve\n",
    "import numpy.random as r\n",
    "from tqdm import tqdm\n",
    "from scipy.optimize import minimize_scalar\n",
    "from functools import partial\n",
    "import math"
   ]
  },
  {
   "cell_type": "code",
   "execution_count": 76,
   "id": "a826e32f",
   "metadata": {},
   "outputs": [
    {
     "data": {
      "text/plain": [
       "Text(0, 0.5, '$θ_a/\\\\pi$')"
      ]
     },
     "execution_count": 76,
     "metadata": {},
     "output_type": "execute_result"
    },
    {
     "data": {
      "image/png": "[encoded data removed]",
      "text/plain": [
       "<Figure size 640x480 with 1 Axes>"
      ]
     },
     "metadata": {},
     "output_type": "display_data"
    }
   ],
   "source": [
    "def equation(theta_b, D):\n",
    "    return 0.5 * np.sin(theta_b) * theta_b + np.cos(theta_b) - (1 - D)\n",
    "\n",
    "# Generate a range of values for D\n",
    "D_values = [0.05,0.1,0.5,1.5]  # Adjust the range as needed\n",
    "D_plot=[]\n",
    "# Solve the equation for each D value within the range (0, pi)\n",
    "theta_b_values = []\n",
    "for D in D_values:\n",
    "    theta_b = fsolve(equation, 0.5*np.pi, args=(D,))\n",
    "    if 0 <= theta_b <= np.pi:\n",
    "        theta_b_values.append(theta_b[0]/np.pi)\n",
    "        D_plot.append(D)\n",
    "\n",
    "# Plot the solution\n",
    "plt.plot(D_plot, theta_b_values,linewidth=3)\n",
    "plt.xlabel(r'$Dx_c/v$',fontsize=20)\n",
    "plt.ylabel(r'$θ_a/\\pi$',fontsize=20)"
   ]
  },
  {
   "cell_type": "code",
   "execution_count": 77,
   "id": "85f64d1b-923e-4008-8b43-0846b4f9a6a1",
   "metadata": {},
   "outputs": [
    {
     "data": {
      "text/plain": [
       "[0.05, 0.1, 0.5, 1.5]"
      ]
     },
     "execution_count": 77,
     "metadata": {},
     "output_type": "execute_result"
    }
   ],
   "source": [
    "D_values"
   ]
  },
  {
   "cell_type": "code",
   "execution_count": 78,
   "id": "7cf7dec7",
   "metadata": {},
   "outputs": [
    {
     "name": "stdout",
     "output_type": "stream",
     "text": [
      "D=0.05\n",
      "D=0.1\n",
      "D=0.5\n",
      "D=1.5\n"
     ]
    }
   ],
   "source": [
    "nstep=500\n",
    "dt=0.01\n",
    "n_traj=10\n",
    "\n",
    "t=dt*nstep\n",
    "\n",
    "for i in range(len(theta_b_values)):\n",
    "    r.seed(1995)\n",
    "    theta_b=theta_b_values[i]*np.pi\n",
    "    D=D_plot[i]\n",
    "    print(\"D=\"+str(D))\n",
    "    \n",
    "    cs=[]\n",
    "    for j in range(n_traj):\n",
    "        theta=0 \n",
    "        cost=0\n",
    "        x=[0]\n",
    "        y=[0]\n",
    "        reors=[]\n",
    "        for _ in range(nstep):\n",
    "            theta=theta+np.sqrt(2*D*dt)*r.normal()\n",
    "            if np.abs(theta)>theta_b:\n",
    "                theta=0\n",
    "                cost=cost+1\n",
    "                reors.append([x[-1],y[-1]])\n",
    "            cost=cost-np.cos(theta)*dt\n",
    "            x.append(x[-1]+np.cos(theta)*dt)\n",
    "            y.append(y[-1]+np.sin(theta)*dt)\n",
    "        plt.plot(x,y)\n",
    "        \n",
    "        for [x,y] in reors:\n",
    "            plt.scatter(x,y,color='r')\n",
    "        \n",
    "        cs.append(-cost/t)\n",
    "    plt.xlim(0,5)\n",
    "    plt.ylim(-3.4,3.4)\n",
    "    plt.xlabel(r\"$x$\",fontsize=25)\n",
    "    plt.ylabel(r\"$y$\",fontsize=25)\n",
    "    plt.savefig(\"traj_\"+str(D)+\".pdf\")\n",
    "    plt.close()\n"
   ]
  },
  {
   "cell_type": "code",
   "execution_count": 79,
   "id": "bb1430c7-4b4b-426d-86d9-efd1676540fa",
   "metadata": {},
   "outputs": [
    {
     "name": "stdout",
     "output_type": "stream",
     "text": [
      "D=0.05\n",
      "D=0.1\n",
      "D=0.5\n",
      "D=1.5\n"
     ]
    }
   ],
   "source": [
    "nstep=500\n",
    "dt=0.01\n",
    "n_traj=1000\n",
    "\n",
    "t=dt*nstep\n",
    "\n",
    "for i in range(len(theta_b_values)):\n",
    "    r.seed(1995)\n",
    "    theta_b=theta_b_values[i]*np.pi\n",
    "    D=D_plot[i]\n",
    "    print(\"D=\"+str(D))\n",
    "    \n",
    "    cs=[]\n",
    "    for j in range(n_traj):\n",
    "        theta=0 \n",
    "        cost=0\n",
    "        x=[0]\n",
    "        y=[0]\n",
    "        reors=[]\n",
    "        for _ in range(nstep):\n",
    "            theta=theta+np.sqrt(2*D*dt)*r.normal()\n",
    "            if np.abs(theta)>theta_b:\n",
    "                theta=0\n",
    "                cost=cost+1\n",
    "                reors.append([x[-1],y[-1]])\n",
    "            cost=cost-np.cos(theta)*dt\n",
    "            x.append(x[-1]+np.cos(theta)*dt)\n",
    "            y.append(y[-1]+np.sin(theta)*dt)\n",
    "        cs.append(-cost)\n",
    "    plt.figure(figsize=(4, 6))\n",
    "    \n",
    "    # Create a boxplot\n",
    "    plt.boxplot(cs, patch_artist=True, boxprops=dict(facecolor='orange', color='black'))\n",
    "    \n",
    "    # Annotate with sample size\n",
    "    #n_traj_text = f\"n = {n_traj}\"\n",
    "    #plt.text(1.1, min(cs) - 0.1, n_traj_text, fontsize=12, ha='center', va='top')\n",
    "    \n",
    "    # Add labels and customize\n",
    "    plt.xticks([1], [''])\n",
    "    plt.ylabel(r'Effective $x$-displacement', fontsize=25)\n",
    "    plt.ylim(-5,5)\n",
    "    # Style adjustments\n",
    "    plt.grid(axis='y', alpha=0.3)\n",
    "    plt.tight_layout()\n",
    "    plt.savefig(\"x_displ_\"+str(D)+\".pdf\")\n",
    "    plt.close()"
   ]
  },
  {
   "cell_type": "code",
   "execution_count": 80,
   "id": "ae9299b5-97db-43a4-b35d-b943093ea9e8",
   "metadata": {},
   "outputs": [
    {
     "name": "stdout",
     "output_type": "stream",
     "text": [
      "D=0.05\n",
      "D=0.1\n",
      "D=0.5\n",
      "D=1.5\n"
     ]
    }
   ],
   "source": [
    "nstep=500\n",
    "dt=0.01\n",
    "n_traj=1000\n",
    "\n",
    "t=dt*nstep\n",
    "\n",
    "for i in range(len(theta_b_values)):\n",
    "    r.seed(1995)\n",
    "    theta_b=theta_b_values[i]*np.pi\n",
    "    D=D_plot[i]\n",
    "    print(\"D=\"+str(D))\n",
    "    \n",
    "    cs=[]\n",
    "    for j in range(n_traj):\n",
    "        theta=0 \n",
    "        cost=0\n",
    "        x=[0]\n",
    "        y=[0]\n",
    "        reors=[]\n",
    "        for _ in range(nstep):\n",
    "            theta=theta+np.sqrt(2*D*dt)*r.normal()\n",
    "            if np.abs(theta)>theta_b:\n",
    "                theta=0\n",
    "                cost=cost+1\n",
    "                reors.append([x[-1],y[-1]])\n",
    "            cost=cost-np.cos(theta)*dt\n",
    "            x.append(x[-1]+np.cos(theta)*dt)\n",
    "            y.append(y[-1]+np.sin(theta)*dt)\n",
    "        cs.append(np.abs(y[-1]))\n",
    "    plt.figure(figsize=(4, 6))\n",
    "    \n",
    "    # Create a boxplot\n",
    "    plt.boxplot(cs, patch_artist=True, boxprops=dict(facecolor='orange', color='black'))\n",
    "    \n",
    "    # Annotate with sample size\n",
    "    #n_traj_text = f\"n = {n_traj}\"\n",
    "    #plt.text(1.1, min(cs) - 0.1, n_traj_text, fontsize=12, ha='center', va='top')\n",
    "    \n",
    "    # Add labels and customize\n",
    "    plt.xticks([1], [''])\n",
    "    plt.ylabel(r'Lateral displacement', fontsize=25)\n",
    "    plt.ylim(0,5)\n",
    "    # Style adjustments\n",
    "    plt.grid(axis='y', alpha=0.3)\n",
    "    plt.tight_layout()\n",
    "    plt.savefig(\"y_displ_\"+str(D)+\".pdf\")\n",
    "    plt.close()"
   ]
  }
 ],
 "metadata": {
  "kernelspec": {
   "display_name": "Python 3 (ipykernel)",
   "language": "python",
   "name": "python3"
  },
  "language_info": {
   "codemirror_mode": {
    "name": "ipython",
    "version": 3
   },
   "file_extension": ".py",
   "mimetype": "text/x-python",
   "name": "python",
   "nbconvert_exporter": "python",
   "pygments_lexer": "ipython3",
   "version": "3.11.4"
  }
 },
 "nbformat": 4,
 "nbformat_minor": 5
}
