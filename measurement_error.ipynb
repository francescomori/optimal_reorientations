{
 "cells": [
  {
   "cell_type": "code",
   "execution_count": 1,
   "id": "d4d32756",
   "metadata": {},
   "outputs": [],
   "source": [
    "import numpy as np\n",
    "import matplotlib.pyplot as plt\n",
    "from scipy.optimize import fsolve\n",
    "import numpy.random as r\n",
    "from tqdm import tqdm\n",
    "from scipy.optimize import minimize_scalar\n",
    "from functools import partial\n",
    "import math"
   ]
  },
  {
   "cell_type": "markdown",
   "id": "1a4a0752",
   "metadata": {},
   "source": [
    "## Measurement error"
   ]
  },
  {
   "cell_type": "code",
   "execution_count": 2,
   "id": "ea8607ff",
   "metadata": {},
   "outputs": [],
   "source": [
    "def modulo_2pi(num):\n",
    "    result = num % (2 * math.pi)\n",
    "    if result > math.pi:\n",
    "        result -= 2 * math.pi\n",
    "    elif result <= -math.pi:\n",
    "        result += 2 * math.pi\n",
    "    return result\n",
    "\n",
    "\n",
    "# Define the objective function you want to minimize\n",
    "def F(x,l,z):\n",
    "    return -(2/((1+1/l)*x**2))*(1-np.cos(x)/np.cosh(x/np.sqrt(l)))+2*z/x**2\n",
    "\n",
    "def v(z,l):\n",
    "    #optimal speed\n",
    "    \n",
    "    F_fixed = partial(F, l=l, z=z)\n",
    "    \n",
    "    # Perform the minimization\n",
    "    result = minimize_scalar(F_fixed, bounds=(0, np.pi+0.01), method='bounded')\n",
    "    \n",
    "    \n",
    "    return max([0,-result.fun,-F(np.pi,l,z)])\n",
    "\n",
    "def theta_a(z,l):\n",
    "    #optimal activation angle\n",
    "    F_fixed = partial(F, l=l, z=z)\n",
    "    \n",
    "    # Define the interval over which you want to minimize the function\n",
    "    \n",
    "    # Perform the minimization\n",
    "    result = minimize_scalar(F_fixed, bounds=(0, np.pi+0.01), method='bounded')\n",
    "    \n",
    "    if result.fun<0:\n",
    "        return result.x\n",
    "    else:\n",
    "        return 4\n",
    "    \n",
    "def modulo_2pi(num):\n",
    "    result = num % (2 * math.pi)\n",
    "    if result > math.pi:\n",
    "        result -= 2 * math.pi\n",
    "    elif result <= -math.pi:\n",
    "        result += 2 * math.pi\n",
    "    return result"
   ]
  },
  {
   "cell_type": "code",
   "execution_count": 3,
   "id": "9a1b58c0",
   "metadata": {},
   "outputs": [
    {
     "name": "stderr",
     "output_type": "stream",
     "text": [
      "100%|█████████████████████████████████████████████| 6/6 [01:08<00:00, 11.43s/it]\n",
      "100%|█████████████████████████████████████████████| 6/6 [01:08<00:00, 11.41s/it]\n",
      "100%|█████████████████████████████████████████████| 6/6 [01:09<00:00, 11.53s/it]\n"
     ]
    },
    {
     "data": {
      "text/plain": [
       "Text(0, 0.5, '$v^*/v_0$')"
      ]
     },
     "execution_count": 3,
     "metadata": {},
     "output_type": "execute_result"
    },
    {
     "data": {
      "image/png": "[encoded data removed]",
      "text/plain": [
       "<Figure size 432x288 with 1 Axes>"
      ]
     },
     "metadata": {
      "needs_background": "light"
     },
     "output_type": "display_data"
    }
   ],
   "source": [
    "t_f=10000#total time\n",
    "dt=0.01#timestep\n",
    "\n",
    "\n",
    "for l in [100,10,1]:\n",
    "    \n",
    "    zs=np.linspace(0,2,1000)\n",
    "    vs=[v(z,l) for z in zs]\n",
    "    \n",
    "    zs_sims=np.linspace(0.1,1.95,6)\n",
    "    v_sims=[]\n",
    "    for z in tqdm(zs_sims):\n",
    "        thetaa=theta_a(z,l)\n",
    "        t=0\n",
    "        x=0\n",
    "        theta1=0\n",
    "        theta2=0\n",
    "        #Langevin dynamics\n",
    "        while t<t_f:\n",
    "            if np.abs(theta1)<thetaa:\n",
    "                theta1=modulo_2pi(theta1+np.sqrt(2*dt)*r.normal())\n",
    "                theta2=modulo_2pi(theta2+np.sqrt(2*dt/l)*r.normal())\n",
    "                x=x+np.cos(theta1+theta2)*dt\n",
    "            else:\n",
    "                theta1=0\n",
    "                theta2=0\n",
    "                x=x-z\n",
    "            t=t+dt\n",
    "        v_sims.append(x/t_f)\n",
    "        \n",
    "    if l==100:\n",
    "        plt.plot(zs,vs,label=r'$\\ell$='+str(l),linewidth=2.5,color='blue')\n",
    "        plt.scatter(zs_sims,v_sims,marker='x',color='blue',s=70)\n",
    "    if l==10:\n",
    "        plt.plot(zs,vs,label=r'$\\ell$='+str(l),linestyle='--',linewidth=2.5,color='orange')\n",
    "        plt.scatter(zs_sims,v_sims,marker='x',color='orange',s=70)\n",
    "\n",
    "    if l==1:\n",
    "        plt.plot(zs,vs,label=r'$\\ell$='+str(l),linestyle=':',linewidth=2.5,color='red')\n",
    "        plt.scatter(zs_sims,v_sims,marker='x',color='red',s=70)\n",
    "        plt.scatter([-1],[-1],marker='x',color='grey',label='Simulations',s=70)\n",
    "\n",
    "plt.xlim(-0.05,2.05)\n",
    "plt.ylim(-0.05,1.05)\n",
    "plt.legend(fontsize=20)\n",
    "plt.locator_params(nbins=4)\n",
    "plt.yticks(fontsize=20)\n",
    "plt.xticks(fontsize=20)\n",
    "plt.xlabel(r'$x_c D_1/v_0$',fontsize=30)\n",
    "plt.ylabel(r'$v^*/v_0$',fontsize=30)"
   ]
  }
 ],
 "metadata": {
  "kernelspec": {
   "display_name": "Python 3 (ipykernel)",
   "language": "python",
   "name": "python3"
  },
  "language_info": {
   "codemirror_mode": {
    "name": "ipython",
    "version": 3
   },
   "file_extension": ".py",
   "mimetype": "text/x-python",
   "name": "python",
   "nbconvert_exporter": "python",
   "pygments_lexer": "ipython3",
   "version": "3.9.12"
  }
 },
 "nbformat": 4,
 "nbformat_minor": 5
}
