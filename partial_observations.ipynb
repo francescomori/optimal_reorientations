{
 "cells": [
  {
   "cell_type": "code",
   "execution_count": 1,
   "id": "d4d32756",
   "metadata": {},
   "outputs": [],
   "source": [
    "import numpy as np\n",
    "import matplotlib.pyplot as plt\n",
    "from scipy.optimize import fsolve\n",
    "import numpy.random as r\n",
    "from tqdm import tqdm\n",
    "from scipy.optimize import minimize_scalar\n",
    "from functools import partial\n",
    "import math"
   ]
  },
  {
   "cell_type": "markdown",
   "id": "8db0d6ae",
   "metadata": {},
   "source": [
    "## Partial observations"
   ]
  },
  {
   "cell_type": "code",
   "execution_count": 2,
   "id": "183b6146",
   "metadata": {},
   "outputs": [],
   "source": [
    "\n",
    "# Define the objective function you want to minimize\n",
    "def F(x,R,z):\n",
    "    return -(2/x**2)*(1+1/R)*(1-np.cos(x/(1+1/R))/np.cosh(x/(np.sqrt(R)*(1+1/R))))+2*z*(1+1/R)/x**2\n",
    "\n",
    "def v(z,R):\n",
    "    #optimal speed\n",
    "    \n",
    "    \n",
    "    F_fixed = partial(F, R=R, z=z)\n",
    "    \n",
    "    # Define the interval over which you want to minimize the function\n",
    "    \n",
    "    # Perform the minimization\n",
    "    result = minimize_scalar(F_fixed, bounds=(0, np.pi+1), method='bounded')\n",
    "    if result.x>np.pi:\n",
    "        return max(0,-F(np.pi,R,z))\n",
    "    return max(0,-result.fun)\n",
    "\n",
    "def theta_a(z,R):\n",
    "    #optimal activation angle\n",
    "    F_fixed = partial(F, R=R, z=z)\n",
    "    \n",
    "    # Define the interval over which you want to minimize the function\n",
    "    \n",
    "    # Perform the minimization\n",
    "    result = minimize_scalar(F_fixed, bounds=(0, np.pi+1), method='bounded')\n",
    "    if result.x>np.pi:\n",
    "        if F(np.pi,R,z)<0:\n",
    "            return np.pi\n",
    "        else:\n",
    "            return np.pi+1\n",
    "    return result.x\n",
    "\n",
    "def modulo_2pi(num):\n",
    "    result = num % (2 * math.pi)\n",
    "    if result > math.pi:\n",
    "        result -= 2 * math.pi\n",
    "    elif result <= -math.pi:\n",
    "        result += 2 * math.pi\n",
    "    return result"
   ]
  },
  {
   "cell_type": "code",
   "execution_count": 3,
   "id": "d5bdca3d",
   "metadata": {},
   "outputs": [
    {
     "name": "stderr",
     "output_type": "stream",
     "text": [
      "100%|█████████████████████████████████████████████| 6/6 [01:00<00:00, 10.05s/it]\n",
      "100%|█████████████████████████████████████████████| 6/6 [00:59<00:00,  9.91s/it]\n",
      "100%|█████████████████████████████████████████████| 6/6 [00:59<00:00,  9.84s/it]\n"
     ]
    },
    {
     "data": {
      "text/plain": [
       "Text(0, 0.5, '$v^*/v_0$')"
      ]
     },
     "execution_count": 3,
     "metadata": {},
     "output_type": "execute_result"
    },
    {
     "data": {
      "image/png": "[encoded data removed]",
      "text/plain": [
       "<Figure size 432x288 with 1 Axes>"
      ]
     },
     "metadata": {
      "needs_background": "light"
     },
     "output_type": "display_data"
    }
   ],
   "source": [
    "t_f=10000 #total time\n",
    "dt=0.01 #timestep\n",
    "\n",
    "\n",
    "for R in [100,10,1]:\n",
    "    \n",
    "    zs=np.linspace(0,2,1000)\n",
    "    vs=[v(z,R) for z in zs]\n",
    "    \n",
    "    zs_sims=np.linspace(0.1,1.95,6)\n",
    "    v_sims=[]\n",
    "    for z in tqdm(zs_sims):\n",
    "        thetaa=theta_a(z,R)\n",
    "        t=0\n",
    "        x=0\n",
    "        theta=0\n",
    "        theta_n=0\n",
    "        #Langevin dynamics\n",
    "        while t<t_f:\n",
    "            if thetaa<=np.pi:\n",
    "                if np.abs(theta+theta_n)<thetaa:\n",
    "                    theta=theta+np.sqrt(2*dt)*r.normal()\n",
    "                    theta_n=theta_n+np.sqrt(2*dt/R)*r.normal()\n",
    "                    x=x+np.cos(theta)*dt\n",
    "                else:\n",
    "                    theta=0\n",
    "                    theta_n=0\n",
    "                    x=x-z\n",
    "            else:\n",
    "                theta=modulo_2pi(theta+np.sqrt(2*dt)*r.normal())\n",
    "                theta_n=modulo_2pi(theta_n+np.sqrt(2*dt/R)*r.normal())\n",
    "                x=x+np.cos(theta)*dt\n",
    "                \n",
    "            t=t+dt\n",
    "        v_sims.append(x/t_f)\n",
    "        \n",
    "    if R==100:\n",
    "        plt.plot(zs,vs,label=r'$r$='+str(R),linewidth=2.5,color='blue')\n",
    "        plt.scatter(zs_sims,v_sims,marker='x',color='blue',s=70)\n",
    "    if R==10:\n",
    "        plt.plot(zs,vs,label=r'$r$='+str(R),linestyle='--',linewidth=2.5,color='orange')\n",
    "        plt.scatter(zs_sims,v_sims,marker='x',color='orange',s=70)\n",
    "\n",
    "    if R==1:\n",
    "        plt.plot(zs,vs,label=r'$r$='+str(R),linestyle=':',linewidth=2.5,color='red')\n",
    "        plt.scatter(zs_sims,v_sims,marker='x',color='red',s=70)\n",
    "        plt.scatter([-1],[-1],marker='x',color='grey',label='Simulations',s=70)\n",
    "\n",
    "plt.xlim(-0.05,2.05)\n",
    "plt.ylim(-0.05,1.05)\n",
    "plt.legend(fontsize=20)\n",
    "plt.locator_params(nbins=4)\n",
    "plt.yticks(fontsize=20)\n",
    "plt.xticks(fontsize=20)\n",
    "plt.xlabel(r'$x_c D/v_0$',fontsize=30)\n",
    "plt.ylabel(r'$v^*/v_0$',fontsize=30)"
   ]
  }
 ],
 "metadata": {
  "kernelspec": {
   "display_name": "Python 3 (ipykernel)",
   "language": "python",
   "name": "python3"
  },
  "language_info": {
   "codemirror_mode": {
    "name": "ipython",
    "version": 3
   },
   "file_extension": ".py",
   "mimetype": "text/x-python",
   "name": "python",
   "nbconvert_exporter": "python",
   "pygments_lexer": "ipython3",
   "version": "3.9.12"
  }
 },
 "nbformat": 4,
 "nbformat_minor": 5
}
